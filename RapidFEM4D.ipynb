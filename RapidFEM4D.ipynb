{
  "cells": [
    {
      "cell_type": "markdown",
      "metadata": {
        "id": "view-in-github",
        "colab_type": "text"
      },
      "source": [
        "<a href=\"https://colab.research.google.com/github/inaciotbueno/rapidfem4d/blob/main/RapidFEM4D.ipynb\" target=\"_parent\"><img src=\"https://colab.research.google.com/assets/colab-badge.svg\" alt=\"Open In Colab\"/></a>"
      ]
    },
    {
      "cell_type": "markdown",
      "source": [
        "# **1. Initialize Earth Engine**"
      ],
      "metadata": {
        "id": "PA3cjQ4F5n_I"
      }
    },
    {
      "cell_type": "code",
      "execution_count": null,
      "metadata": {
        "id": "F6mKCJMX_TWX"
      },
      "outputs": [],
      "source": [
        "try:\n",
        "  import geemap\n",
        "except ModuleNotFoundError:\n",
        "  !pip install geemap -q\n",
        "\n",
        "import ee\n",
        "import pandas as pd\n",
        "import numpy as np\n",
        "import random\n",
        "import re\n",
        "\n",
        "from google.colab import drive\n",
        "from geemap import ml\n",
        "from sklearn.ensemble import RandomForestRegressor\n",
        "from sklearn.feature_selection import SelectFromModel\n",
        "from IPython.display import clear_output\n",
        "from sklearn.model_selection import train_test_split\n",
        "\n",
        "try:\n",
        "  my_dir\n",
        "except NameError:\n",
        "  drive.mount('/content/drive/')\n",
        "  my_dir = '/content/drive/My Drive'\n",
        "\n",
        "try:\n",
        "  ee.Initialize()\n",
        "except:\n",
        "  ee.Authenticate()\n",
        "  ee.Initialize(project='ee-inaciotbueno')\n",
        "\n",
        "clear_output()"
      ]
    },
    {
      "cell_type": "markdown",
      "source": [
        "# **2. Define User**"
      ],
      "metadata": {
        "id": "jmgF5OudRCY4"
      }
    },
    {
      "cell_type": "code",
      "source": [
        "# Define User Project (Replace with actual EE user project)\n",
        "USER_PROJECT = \"ee-inaciotbueno\"\n",
        "\n",
        "# Define where AGBD models will be stored\n",
        "MODEL_DIR = f\"projects/{USER_PROJECT}/assets/rapidfem4d/agbd/model\"\n",
        "\n",
        "# Define where AGBD maps will be stored\n",
        "IMG_DIR = f\"projects/{USER_PROJECT}/assets/rapidfem4d/agbd/image\"\n",
        "\n",
        "# Define where output files will be saved in Google drive, be sure the folder exists\n",
        "DRIVE_DIR = '/content/drive/My Drive/rapidfem4d'\n",
        "\n",
        "# Function to check and create all directories in a given asset path\n",
        "def ensure_full_asset_path(asset_path):\n",
        "    base_path = f\"projects/{USER_PROJECT}/assets\"\n",
        "    relative_path = asset_path.replace(base_path + \"/\", \"\")  # Remove base path from full path\n",
        "\n",
        "    path_parts = relative_path.split('/')\n",
        "    current_path = base_path  # Start checking from base path\n",
        "\n",
        "    for part in path_parts:\n",
        "        current_path = f\"{current_path}/{part}\"\n",
        "        try:\n",
        "            ee.data.getAsset(current_path)\n",
        "        except ee.EEException as e:\n",
        "            if 'does not exist' in str(e):\n",
        "                ee.data.createAsset({'type': 'Folder'}, current_path)\n",
        "\n",
        "ensure_full_asset_path(IMG_DIR)\n",
        "ensure_full_asset_path(MODEL_DIR)"
      ],
      "metadata": {
        "colab": {
          "base_uri": "https://localhost:8080/",
          "height": 17
        },
        "id": "rzEGGV7CRHez",
        "outputId": "bb456d97-8429-4b73-b067-320b22428264"
      },
      "execution_count": null,
      "outputs": [
        {
          "output_type": "display_data",
          "data": {
            "text/plain": [
              "<IPython.core.display.HTML object>"
            ],
            "text/html": [
              "\n",
              "            <style>\n",
              "                .geemap-dark {\n",
              "                    --jp-widgets-color: white;\n",
              "                    --jp-widgets-label-color: white;\n",
              "                    --jp-ui-font-color1: white;\n",
              "                    --jp-layout-color2: #454545;\n",
              "                    background-color: #383838;\n",
              "                }\n",
              "\n",
              "                .geemap-dark .jupyter-button {\n",
              "                    --jp-layout-color3: #383838;\n",
              "                }\n",
              "\n",
              "                .geemap-colab {\n",
              "                    background-color: var(--colab-primary-surface-color, white);\n",
              "                }\n",
              "\n",
              "                .geemap-colab .jupyter-button {\n",
              "                    --jp-layout-color3: var(--colab-primary-surface-color, white);\n",
              "                }\n",
              "            </style>\n",
              "            "
            ]
          },
          "metadata": {}
        }
      ]
    },
    {
      "cell_type": "markdown",
      "metadata": {
        "id": "fWZEk5YZij60"
      },
      "source": [
        "# **3. User control inputs**\n"
      ]
    },
    {
      "cell_type": "code",
      "execution_count": null,
      "metadata": {
        "colab": {
          "base_uri": "https://localhost:8080/",
          "height": 34
        },
        "id": "PfaDH90iJfnJ",
        "outputId": "41b39261-1a64-4c33-d863-25e0301ba961"
      },
      "outputs": [
        {
          "output_type": "display_data",
          "data": {
            "text/plain": [
              "<IPython.core.display.HTML object>"
            ],
            "text/html": [
              "\n",
              "            <style>\n",
              "                .geemap-dark {\n",
              "                    --jp-widgets-color: white;\n",
              "                    --jp-widgets-label-color: white;\n",
              "                    --jp-ui-font-color1: white;\n",
              "                    --jp-layout-color2: #454545;\n",
              "                    background-color: #383838;\n",
              "                }\n",
              "\n",
              "                .geemap-dark .jupyter-button {\n",
              "                    --jp-layout-color3: #383838;\n",
              "                }\n",
              "\n",
              "                .geemap-colab {\n",
              "                    background-color: var(--colab-primary-surface-color, white);\n",
              "                }\n",
              "\n",
              "                .geemap-colab .jupyter-button {\n",
              "                    --jp-layout-color3: var(--colab-primary-surface-color, white);\n",
              "                }\n",
              "            </style>\n",
              "            "
            ]
          },
          "metadata": {}
        },
        {
          "output_type": "stream",
          "name": "stdout",
          "text": [
            "CSV already exists\n"
          ]
        }
      ],
      "source": [
        "# Define year and response variable\n",
        "year = '2021'\n",
        "\n",
        "# Define study area\n",
        "aoi = ee.FeatureCollection('projects/ee-inaciotbueno/assets/RapidFEM4D/boundary_Ian')\n",
        "\n",
        "# Define GEDI and HLS time periods\n",
        "start_date_gedi, end_date_gedi = year+'-04-01', year+'-04-30'\n",
        "start_date_img, end_date_img = year+'-01-01', year+'-07-30'\n",
        "\n",
        "# Load pre-existing CSV data for model training if export is not required\n",
        "try:\n",
        "  df = pd.read_csv(DRIVE_DIR+'/gedi_samples.csv')\n",
        "  df['system:index'] = range(len(df))\n",
        "  exportCSV = 'No'\n",
        "  print('CSV already exists')\n",
        "\n",
        "except FileNotFoundError:\n",
        "  exportCSV = 'Yes'\n",
        "  print('CSV will be created')\n",
        "\n",
        "# Define model parameters\n",
        "rfModel = 'No'  # Use Random Forest Model: Yes | No\n",
        "nRuns = 5 # Number os model iterations and maps\n",
        "nTrees = 200  # Number of trees in Random Forest\n",
        "nSamples = 1000  # Number of samples for model training"
      ]
    },
    {
      "cell_type": "markdown",
      "metadata": {
        "id": "Cyo9zonPkNqq"
      },
      "source": [
        "# **4. Define functions**"
      ]
    },
    {
      "cell_type": "code",
      "execution_count": null,
      "metadata": {
        "colab": {
          "base_uri": "https://localhost:8080/",
          "height": 17
        },
        "id": "X-Ic7gbtw99n",
        "outputId": "78bceb31-8907-4be7-cf24-2f07ee2faf1e"
      },
      "outputs": [
        {
          "output_type": "display_data",
          "data": {
            "text/plain": [
              "<IPython.core.display.HTML object>"
            ],
            "text/html": [
              "\n",
              "            <style>\n",
              "                .geemap-dark {\n",
              "                    --jp-widgets-color: white;\n",
              "                    --jp-widgets-label-color: white;\n",
              "                    --jp-ui-font-color1: white;\n",
              "                    --jp-layout-color2: #454545;\n",
              "                    background-color: #383838;\n",
              "                }\n",
              "\n",
              "                .geemap-dark .jupyter-button {\n",
              "                    --jp-layout-color3: #383838;\n",
              "                }\n",
              "\n",
              "                .geemap-colab {\n",
              "                    background-color: var(--colab-primary-surface-color, white);\n",
              "                }\n",
              "\n",
              "                .geemap-colab .jupyter-button {\n",
              "                    --jp-layout-color3: var(--colab-primary-surface-color, white);\n",
              "                }\n",
              "            </style>\n",
              "            "
            ]
          },
          "metadata": {}
        }
      ],
      "source": [
        "def l4a_quality_mask(image):\n",
        "  filter1 = image.updateMask(image.select('l4_quality_flag').eq(1))\n",
        "  filter2 = filter1.updateMask(filter1.select('degrade_flag').eq(0))\n",
        "  return filter2\n",
        "\n",
        "def full_power(image):\n",
        "  return (image.updateMask(image.select('beam').gte(4)))\n",
        "\n",
        "def night(image):\n",
        "  return image.updateMask(image.select('solar_elevation').lte(0))\n",
        "\n",
        "def cloud_mask(image):\n",
        "  qa = image.select(['Fmask']);\n",
        "  cloudmask = qa.bitwiseAnd(1 << 1).Or(qa.bitwiseAnd(1 << 2)).Or(qa.bitwiseAnd(1 << 3))\n",
        "  return image.updateMask(cloudmask.Not())\n",
        "\n",
        "def water_mask(image):\n",
        "  band5 = image.select('B5')\n",
        "  mask = band5.gte(0.2)\n",
        "  return image.updateMask(mask)\n",
        "\n",
        "def scale_image(image, factor):\n",
        "    return image.multiply(factor).int()\n",
        "\n",
        "def load_csv_or_empty(path):\n",
        "    try:\n",
        "        return pd.read_csv(path, index_col=[0])\n",
        "    except FileNotFoundError:\n",
        "        return pd.DataFrame()\n",
        "\n",
        "def classifyRaster(image, threshold):\n",
        "  classes = ee.Image(0).rename('vegetation')\n",
        "  classes = classes.where(image.select('trees').gt(threshold), 1)\n",
        "  classes = classes.where(image.select('shrub_and_scrub').gt(threshold), 2)\n",
        "  classes = classes.where(image.select('grass').gt(threshold), 3)\n",
        "  classes = classes.where(image.select('flooded_vegetation').gt(threshold), 4)\n",
        "  return ee.Image.cat([image, classes])"
      ]
    },
    {
      "cell_type": "markdown",
      "metadata": {
        "id": "xd8u7RLwlc7N"
      },
      "source": [
        "# **5. Create variables**"
      ]
    },
    {
      "cell_type": "code",
      "execution_count": null,
      "metadata": {
        "colab": {
          "base_uri": "https://localhost:8080/",
          "height": 17
        },
        "id": "MqgnSIhLtGdO",
        "outputId": "018c9d7d-7f75-492e-e2ae-2343992257b1"
      },
      "outputs": [
        {
          "output_type": "display_data",
          "data": {
            "text/plain": [
              "<IPython.core.display.HTML object>"
            ],
            "text/html": [
              "\n",
              "            <style>\n",
              "                .geemap-dark {\n",
              "                    --jp-widgets-color: white;\n",
              "                    --jp-widgets-label-color: white;\n",
              "                    --jp-ui-font-color1: white;\n",
              "                    --jp-layout-color2: #454545;\n",
              "                    background-color: #383838;\n",
              "                }\n",
              "\n",
              "                .geemap-dark .jupyter-button {\n",
              "                    --jp-layout-color3: #383838;\n",
              "                }\n",
              "\n",
              "                .geemap-colab {\n",
              "                    background-color: var(--colab-primary-surface-color, white);\n",
              "                }\n",
              "\n",
              "                .geemap-colab .jupyter-button {\n",
              "                    --jp-layout-color3: var(--colab-primary-surface-color, white);\n",
              "                }\n",
              "            </style>\n",
              "            "
            ]
          },
          "metadata": {}
        }
      ],
      "source": [
        "# Vegetation mask for gedi footprint selection\n",
        "dyn_world = ee.ImageCollection(\"GOOGLE/DYNAMICWORLD/V1\")\\\n",
        "  .filterBounds(aoi)\\\n",
        "  .select('trees')\\\n",
        "  .mosaic()\\\n",
        "  .gt(0.4)\n",
        "\n",
        "def invBuffer(image, size):\n",
        "  \"\"\" Apply an inverse buffer to mask out areas near edges \"\"\"\n",
        "  local_scale = ee.Image.pixelArea().sqrt()\n",
        "  buffer = image.mask().Not().fastDistanceTransform(size, 'pixels').sqrt().multiply(local_scale)\n",
        "  return image.updateMask(buffer.gt(size))\n",
        "\n",
        "vegMask = invBuffer(dyn_world, 100)\n",
        "\n",
        "# Vegetation mask for final map clipping\n",
        "dyn_world2 = ee.ImageCollection(\"GOOGLE/DYNAMICWORLD/V1\")\\\n",
        "  .filterBounds(aoi)\\\n",
        "  .select(['trees','shrub_and_scrub','grass','flooded_vegetation'])\\\n",
        "  .mosaic()\n",
        "\n",
        "vegMask2 = classifyRaster(dyn_world2, 0.1).select('vegetation')\n",
        "vegMask2 = vegMask2.updateMask(vegMask2)\n",
        "\n",
        "# Import GED L4A\n",
        "gedi_l4a = ee.ImageCollection(\"LARSE/GEDI/GEDI04_A_002_MONTHLY\")\\\n",
        "  .filterBounds(aoi)\\\n",
        "  .filterDate(start_date_gedi, end_date_gedi)\\\n",
        "  .map(l4a_quality_mask)\\\n",
        "  .map(full_power)\\\n",
        "  .select('agbd')\\\n",
        "  .mosaic().int()\n",
        "\n",
        "# Import Harmonized Landsat Sentinel\n",
        "hls = ee.ImageCollection(\"NASA/HLS/HLSL30/v002\")\\\n",
        "  .filterBounds(aoi)\\\n",
        "  .filterDate(start_date_img, end_date_img)\\\n",
        "  .filter(ee.Filter.lt(\"CLOUD_COVERAGE\", 30))\\\n",
        "  .map(cloud_mask)\\\n",
        "  .map(water_mask)\\\n",
        "  .median()\n",
        "\n",
        "hls = scale_image(hls, 10000)\\\n",
        "  .select(['B2', 'B3', 'B4', 'B5', 'B6','B7'], ['blue', 'green','red', 'nir', 'swir1', 'swir2'])\n",
        "\n",
        "# Import Sentinel 1C\n",
        "s1c = ee.ImageCollection(\"COPERNICUS/S1_GRD\")\\\n",
        "  .filterBounds(aoi)\\\n",
        "  .filterDate(start_date_img, end_date_img)\\\n",
        "  .filter(ee.Filter.listContains('transmitterReceiverPolarisation', 'VV'))\\\n",
        "  .filter(ee.Filter.listContains('transmitterReceiverPolarisation', 'VH'))\\\n",
        "  .filter(ee.Filter.eq('instrumentMode', 'IW'))\\\n",
        "  .map(lambda img: scale_image(img, 100))\\\n",
        "  .sort('system:time_start', False)\\\n",
        "  .reduce(ee.Reducer.firstNonNull())\\\n",
        "  .select(['VV_first', 'VH_first'], ['vv', 'vh']).int()\n",
        "\n",
        "# Terrain properties\n",
        "elevation = ee.Image(\"NASA/NASADEM_HGT/001\").select('elevation').int()\n",
        "slope = ee.Terrain.slope(elevation).multiply(1000).int()\n",
        "aspect = ee.Terrain.aspect(elevation).multiply(10).int16()\n",
        "\n",
        "# Normalized Difference Vegetation Index\n",
        "ndvi = hls.normalizedDifference(['nir', 'red']).select(['nd'],['ndvi']).multiply(10000).int();\n",
        "\n",
        "# Kernel normalized difference vegetation index\n",
        "def addKNDVI(im):\n",
        "    D2 = im.select('nir').subtract(im.select('red')).pow(2).rename('d2')\n",
        "    gamma = ee.Number(4e6).multiply(-2.0)\n",
        "    k = D2.divide(gamma).exp()\n",
        "    kndvi = ee.Image.constant(1).subtract(k).divide(ee.Image.constant(1).add(k)).rename('kndvi')\n",
        "    return im.addBands(kndvi).multiply(1000).int()\n",
        "kndvi = addKNDVI(hls).select('kndvi')\n",
        "\n",
        "# Enhanced Vegetation Index\n",
        "evi = hls.expression('evi = 2.5 * (nir - red) / (nir + 6 * red - 7.5 * blue + 1)',\n",
        "  {'nir': hls.select('nir'),'red': hls.select('red'),'blue': hls.select('blue')}).multiply(10000).int()\n",
        "\n",
        "# Soil-Adjusted Vegetation Index\n",
        "savi = hls.expression('savi = 1.5 * (nir - red) / (nir + red + 0.5)',\n",
        "  {'nir': hls.select('nir'),'red': hls.select('red')}).multiply(10000).int();\n",
        "\n",
        "# Modified Soil-Adjusted Vegetation Index\n",
        "def getMSAVI2(im):\n",
        "    p1 = (im.select('red').multiply(2).add(1)).pow(2)\n",
        "    p2 = (im.select('red').subtract(im.select('nir'))).multiply(8)\n",
        "    p3 = (im.select('red').multiply(2).add(1))\n",
        "    return im.addBands((p3.subtract((p1.subtract(p2).sqrt())).divide(2).rename('msavi2')))\n",
        "msavi2 = getMSAVI2(hls).select('msavi2').multiply(10000).int()\n",
        "\n",
        "# Simple Ratio Index\n",
        "sri = hls.expression('sri = nir / red',\n",
        "  {'nir': hls.select('nir'),'red': hls.select('red')}).multiply(1000).int()\n",
        "\n",
        "# Normalized Difference Water Index\n",
        "ndwi = hls.normalizedDifference(['green', 'nir']).select(['nd'],['ndwi']).multiply(10000).int()\n",
        "\n",
        "# Green Chlorophyll Index\n",
        "gci = hls.expression('gci = (nir / green) - 1',\n",
        "  {'nir': hls.select('nir'),'green': hls.select('green')}).multiply(1000).int()\n",
        "\n",
        "wdrvi = hls.expression('wdrvi = ((0.1 * nir) - red) / ((0.1 * nir) + red)',\n",
        "  {'nir': hls.select('nir'),'red': hls.select('red')}).multiply(10000).int()\n",
        "\n",
        "# Global Vegetation Moisture Index\n",
        "gvmi = hls.expression('gvmi = ((nir + 0.1) - (swir1 + 0.02)) / ((nir + 0.1) + (swir1 + 0.02))',\n",
        "  {'swir1': hls.select('swir1'),'nir': hls.select('nir')}).multiply(10000).int()\n",
        "\n",
        "# Chlorophyll vegetation index\n",
        "def getCVI(im):\n",
        "    p1 = im.select('nir');\n",
        "    p2 = im.select('red');\n",
        "    p3 = im.select('green').pow(2);\n",
        "    p4 = p2.divide(p3);\n",
        "    return p1.multiply(p4).rename('cvi')\n",
        "cvi = getCVI(hls).select('cvi').multiply(1000).int()\n",
        "\n",
        "# Clay minerals ratio\n",
        "cmr = hls.expression('cmr = swir1 / swir2',\n",
        "  {'swir1': hls.select('swir1'),'swir2': hls.select('swir2')}).multiply(1000).int()\n",
        "\n",
        "# Radar Vegetation Index\n",
        "rvi = s1c.expression('rvi = sqrt(vv/(vv+vh))*(vv/vh)',\n",
        "  {'vv': s1c.select('vv'),'vh': s1c.select('vh')}).multiply(10000).int()\n",
        "\n",
        "# Radar co-polarized 1\n",
        "copol = s1c.expression('copol = vv / vh',\n",
        "  {'vv': s1c.select('vv'),'vh': s1c.select('vh')}).multiply(10000).int()\n",
        "\n",
        "# Radar co-polarized 2\n",
        "copol2 = s1c.expression('copol2 = (vv-vh)/(vv+vh)',\n",
        "  {'vv': s1c.select('vv'),'vh': s1c.select('vh')}).multiply(10000).int()\n",
        "\n",
        "# Radar co-polarized 3\n",
        "copol3 = s1c.expression('copol3 = vh / vv',\n",
        "  {'vv': s1c.select('vv'),'vh': s1c.select('vh')}).multiply(10000).int()\n",
        "\n",
        "x_coord = ee.Image.pixelLonLat().select('longitude')\n",
        "y_coord = ee.Image.pixelLonLat().select('latitude')\n",
        "\n",
        "# Spatial transformations and image stack\n",
        "stackS2 = ee.Image.cat([ndvi,kndvi,evi,savi,msavi2,sri,ndwi,gci,wdrvi,gvmi,cvi,cmr,hls])\n",
        "stackS1 = ee.Image.cat([rvi,copol,copol2,copol3,s1c])\n",
        "stackDem = ee.Image.cat([elevation,slope,aspect])\n",
        "\n",
        "# 3x3 Mean\n",
        "kernel = ee.Kernel.fixed(3, 3, [[1, 1, 1], [1, 1, 1], [1, 1, 1]], 3, 3, False)\n",
        "stackS2_mn = stackS2.reduceNeighborhood(ee.Reducer.mean(), kernel)\n",
        "stackS1_mn = stackS1.reduceNeighborhood(ee.Reducer.mean(), kernel)\n",
        "stackDem_mn = stackDem.reduceNeighborhood(ee.Reducer.mean(), kernel)\n",
        "\n",
        "# 3x3 Maximum\n",
        "stackS2_mx = stackS2.reduceNeighborhood(ee.Reducer.max(), kernel)\n",
        "stackS1_mx = stackS1.reduceNeighborhood(ee.Reducer.max(), kernel)\n",
        "stackDem_mx = stackDem.reduceNeighborhood(ee.Reducer.max(), kernel)\n",
        "\n",
        "# 3x3 Minimum\n",
        "stackS2_mi = stackS2.reduceNeighborhood(ee.Reducer.min(), kernel)\n",
        "stackS1_mi = stackS1.reduceNeighborhood(ee.Reducer.min(), kernel)\n",
        "stackDem_mi = stackDem.reduceNeighborhood(ee.Reducer.min(), kernel)\n",
        "\n",
        "# 3x3 Standard deviation\n",
        "stackS2_std = stackS2.reduceNeighborhood(ee.Reducer.stdDev(), kernel)\n",
        "stackS1_std = stackS1.reduceNeighborhood(ee.Reducer.stdDev(), kernel)\n",
        "stackDem_std = stackDem.reduceNeighborhood(ee.Reducer.stdDev(), kernel)\n",
        "\n",
        "# GLCM\n",
        "glcm = hls.glcmTexture(**{'size': 3})\n",
        "\n",
        "stack = ee.Image.cat([\n",
        "    gedi_l4a,\n",
        "    stackS2, stackS1,stackDem,\n",
        "    stackS2_mn, stackS1_mn, stackDem_mn,\n",
        "    stackS2_mx, stackS1_mx, stackDem_mx,\n",
        "    stackS2_mi, stackS1_mi, stackDem_mi,\n",
        "    stackS2_std, stackS1_std, stackDem_std,\n",
        "    glcm,\n",
        "    x_coord, y_coord\n",
        "])"
      ]
    },
    {
      "cell_type": "markdown",
      "metadata": {
        "id": "zLsFtzbvKy6R"
      },
      "source": [
        "# **6. Exporting GEDI to .csv**"
      ]
    },
    {
      "cell_type": "code",
      "execution_count": null,
      "metadata": {
        "colab": {
          "base_uri": "https://localhost:8080/",
          "height": 17
        },
        "id": "AvicSeV4KwNq",
        "outputId": "13020b77-016c-49a9-9cb5-20c578c5eb76"
      },
      "outputs": [
        {
          "output_type": "display_data",
          "data": {
            "text/plain": [
              "<IPython.core.display.HTML object>"
            ],
            "text/html": [
              "\n",
              "            <style>\n",
              "                .geemap-dark {\n",
              "                    --jp-widgets-color: white;\n",
              "                    --jp-widgets-label-color: white;\n",
              "                    --jp-ui-font-color1: white;\n",
              "                    --jp-layout-color2: #454545;\n",
              "                    background-color: #383838;\n",
              "                }\n",
              "\n",
              "                .geemap-dark .jupyter-button {\n",
              "                    --jp-layout-color3: #383838;\n",
              "                }\n",
              "\n",
              "                .geemap-colab {\n",
              "                    background-color: var(--colab-primary-surface-color, white);\n",
              "                }\n",
              "\n",
              "                .geemap-colab .jupyter-button {\n",
              "                    --jp-layout-color3: var(--colab-primary-surface-color, white);\n",
              "                }\n",
              "            </style>\n",
              "            "
            ]
          },
          "metadata": {}
        }
      ],
      "source": [
        "if (exportCSV == 'Yes'):\n",
        "\n",
        "  # Select and mask image bands\n",
        "  agbdImg = stack.select('agbd')\n",
        "\n",
        "  # Sample points from the processed image\n",
        "  gediSamples = agbdImg.sample(**{\n",
        "      'region': aoi,\n",
        "      'scale': 25,\n",
        "      'factor': 0.1,\n",
        "      'geometries': True,\n",
        "      'tileScale': 16\n",
        "  })\n",
        "\n",
        "  # Reduce regions to get values for each Gedi pixel\n",
        "  gediZonal = stack.reduceRegions(**{\n",
        "    'collection': gediSamples,\n",
        "    'reducer': ee.Reducer.firstNonNull(),\n",
        "    'scale': 30,\n",
        "    'tileScale': 16\n",
        "  })\n",
        "\n",
        "  # Configure the export task for CSV export\n",
        "  task_config = {\n",
        "      'description': 'gedi_samples',\n",
        "      'folder': DRIVE_DIR.split('/')[-1],\n",
        "      'fileFormat': 'CSV'\n",
        "  }\n",
        "  # Start the export task\n",
        "  task = ee.batch.Export.table.toDrive(gediZonal, **task_config)\n",
        "  task.start()\n",
        "\n",
        "  raise Exception(\"Execution stopped. Wait for the submitted task to be completed.\")"
      ]
    },
    {
      "cell_type": "markdown",
      "metadata": {
        "id": "mOy7G7lJMzTw"
      },
      "source": [
        "# **7. AGBD modeling**"
      ]
    },
    {
      "cell_type": "code",
      "execution_count": null,
      "metadata": {
        "id": "FQVDw-lNCzW_",
        "colab": {
          "base_uri": "https://localhost:8080/",
          "height": 17
        },
        "outputId": "19c074f3-2217-41dd-820e-0f267674d386"
      },
      "outputs": [
        {
          "output_type": "display_data",
          "data": {
            "text/plain": [
              "<IPython.core.display.HTML object>"
            ],
            "text/html": [
              "\n",
              "            <style>\n",
              "                .geemap-dark {\n",
              "                    --jp-widgets-color: white;\n",
              "                    --jp-widgets-label-color: white;\n",
              "                    --jp-ui-font-color1: white;\n",
              "                    --jp-layout-color2: #454545;\n",
              "                    background-color: #383838;\n",
              "                }\n",
              "\n",
              "                .geemap-dark .jupyter-button {\n",
              "                    --jp-layout-color3: #383838;\n",
              "                }\n",
              "\n",
              "                .geemap-colab {\n",
              "                    background-color: var(--colab-primary-surface-color, white);\n",
              "                }\n",
              "\n",
              "                .geemap-colab .jupyter-button {\n",
              "                    --jp-layout-color3: var(--colab-primary-surface-color, white);\n",
              "                }\n",
              "            </style>\n",
              "            "
            ]
          },
          "metadata": {}
        }
      ],
      "source": [
        "new_df = df.dropna().reset_index(drop=True)\n",
        "feature_names = [col for col in new_df.columns if col not in ['agbd', '.geo', 'system:index', 'year']]\n",
        "\n",
        "\n",
        "# Run Random Forest model if enabled\n",
        "if rfModel == 'Yes':\n",
        "    score = pd.DataFrame()\n",
        "    bootstrap = []\n",
        "\n",
        "    # Load existing importance, metrics, and prediction data\n",
        "    def load_csv_or_empty(path):\n",
        "        try:\n",
        "            return pd.read_csv(path, index_col=[0])\n",
        "        except FileNotFoundError:\n",
        "            return pd.DataFrame()\n",
        "\n",
        "    metrics = load_csv_or_empty(DRIVE_DIR+'/metrics_agbd.csv')\n",
        "    predictions = load_csv_or_empty(DRIVE_DIR+'/predictions_agbd.csv')\n",
        "\n",
        "    # Loop through multiple runs\n",
        "    for i in range(0,nRuns):\n",
        "\n",
        "      if (i < 9):\n",
        "        filenumber = '00'+str(i+1)\n",
        "      elif ((i >= 9) and (i < 99)):\n",
        "        filenumber = '0'+str(i+1)\n",
        "      else:\n",
        "        filenumber = str(i+1)\n",
        "\n",
        "      assetPath = MODEL_DIR+'/agbd_model_'+filenumber\n",
        "\n",
        "      try:\n",
        "        assetFile = ee.data.getAsset(assetPath)\n",
        "      except :\n",
        "\n",
        "        # Prepare training and testing data\n",
        "        new_df_sample = new_df.sample(1000, random_state = random.randint(1, 10000))\n",
        "        train_df, test_df = train_test_split(new_df_sample, test_size=0.3, random_state=random.randint(1, 10000))\n",
        "        X_train = train_df[feature_names]\n",
        "        y_train = train_df[['agbd']]\n",
        "        X_test = test_df[feature_names]\n",
        "        y_test = test_df[['agbd']]\n",
        "        y_train = np.ravel(y_train)\n",
        "\n",
        "        # Train Random Forest model\n",
        "        rf = RandomForestRegressor(n_estimators=nTrees)\n",
        "        selector = SelectFromModel(estimator=rf, max_features=None)\n",
        "        X_train_new = selector.fit_transform(X_train, y_train)\n",
        "        X_test_new = selector.transform(X_test)\n",
        "        rf.fit(X_train_new, y_train)\n",
        "        y_pred = rf.predict(X_test_new)\n",
        "\n",
        "        selected_feature_indices = selector.get_support(indices=True)\n",
        "        selected_feature_names = [feature_names[i] for i in selected_feature_indices]\n",
        "\n",
        "        # Print results of each run\n",
        "        print(50*'--',\"\\nRepeat\", i+1, \"- \", 'agbd', \"- Training set size:\", len(X_train_new),\"- Test set size::\", len(X_test_new))\n",
        "        obs = y_test['agbd']\n",
        "        obs = pd.to_numeric(obs, errors='coerce')\n",
        "        pred = pd.Series(y_pred, index = X_test.index).astype('object')\n",
        "        pred = pd.to_numeric(pred, errors='coerce')\n",
        "\n",
        "        abs_rmse = round(np.sqrt(sum((pred-obs) ** 2 ) / len(pred)), 2)\n",
        "        abs_bias = round(np.mean(pred) - np.mean(obs), 4)\n",
        "        rel_bias = round(abs_bias / np.mean(obs) * 100, 4)\n",
        "        abs_rmse = round(np.sqrt(sum((pred-obs) ** 2 ) / len(pred)), 2)\n",
        "        rel_rmse = round(abs_rmse / np.mean(obs) * 100, 2)\n",
        "        r2 = np.corrcoef(obs, pred) ** 2\n",
        "        r2 = round(r2[0,1], 4)\n",
        "\n",
        "        print('BIAS: ', abs_bias)\n",
        "        print('BIAS (%): ', rel_bias)\n",
        "        print('RMSE: ', abs_rmse)\n",
        "        print('RMSE %: ', rel_rmse)\n",
        "        print('R2: ', r2)\n",
        "\n",
        "        score.loc[i, 'bootstrap'] = i+1\n",
        "        score.loc[i, 'BIAS'] = abs_bias\n",
        "        score.loc[i, 'BIAS(%)'] = rel_bias\n",
        "        score.loc[i, 'RMSE'] = abs_rmse\n",
        "        score.loc[i, 'RMSE(%)'] = rel_rmse\n",
        "        score.loc[i, 'R2'] = r2\n",
        "\n",
        "        # Save outputs and export model trees as gee asset\n",
        "        metrics = pd.concat([metrics , score], axis=0)\n",
        "        score = pd.DataFrame()\n",
        "\n",
        "        obs.columns = ['obs']\n",
        "        obs = obs.reset_index(drop=True)\n",
        "        pred = pred.to_frame()\n",
        "        pred.columns = ['pred']\n",
        "        pred = pred.reset_index(drop=True)\n",
        "        predictions = pd.concat([predictions , obs, pred], axis=1)\n",
        "\n",
        "        trees = ml.rf_to_strings(rf, selected_feature_names, output_mode='REGRESSION')\n",
        "\n",
        "        for j in range(nTrees):\n",
        "          a = trees[j].split('\\n', 1)[0]\n",
        "          lines = trees[j].split('\\n')\n",
        "          lines = lines[1:]\n",
        "          for line in lines:\n",
        "            line = line.replace('.',',')\n",
        "            if (line.find('*') > 0):\n",
        "              b = re.sub(',.*? ', ' ', line)\n",
        "            else:\n",
        "              b = re.sub(',.*? ', ' ', line)\n",
        "              b = re.sub('\\,.*', '', b)\n",
        "            c = '\\n'.join([a, b])\n",
        "            a = c\n",
        "          trees[j] = a\n",
        "          trees[j] = trees[j].replace(' <= ', '<=')\n",
        "          trees[j] = trees[j].replace(' < ', '<')\n",
        "          trees[j] = trees[j].replace(' => ', '=>')\n",
        "          trees[j] = trees[j].replace(' > ', '>')\n",
        "\n",
        "        ee_classifier = ml.strings_to_classifier(trees)\n",
        "        ml.export_trees_to_fc(trees, assetPath, description='agbd_model_'+filenumber)\n",
        "\n",
        "        metrics.to_csv(DRIVE_DIR+'/metrics_agbd.csv')\n",
        "        predictions.to_csv(DRIVE_DIR+'/predictions_agbd.csv')"
      ]
    },
    {
      "cell_type": "markdown",
      "metadata": {
        "id": "v5NjpHzKkKCx"
      },
      "source": [
        "# **8. AGBD Upscaling**"
      ]
    },
    {
      "cell_type": "code",
      "execution_count": null,
      "metadata": {
        "id": "rlhUV0rpkCAc",
        "colab": {
          "base_uri": "https://localhost:8080/",
          "height": 17
        },
        "outputId": "4f8a336e-19c5-4f3d-a7f6-f18a829a8cb1"
      },
      "outputs": [
        {
          "output_type": "display_data",
          "data": {
            "text/plain": [
              "<IPython.core.display.HTML object>"
            ],
            "text/html": [
              "\n",
              "            <style>\n",
              "                .geemap-dark {\n",
              "                    --jp-widgets-color: white;\n",
              "                    --jp-widgets-label-color: white;\n",
              "                    --jp-ui-font-color1: white;\n",
              "                    --jp-layout-color2: #454545;\n",
              "                    background-color: #383838;\n",
              "                }\n",
              "\n",
              "                .geemap-dark .jupyter-button {\n",
              "                    --jp-layout-color3: #383838;\n",
              "                }\n",
              "\n",
              "                .geemap-colab {\n",
              "                    background-color: var(--colab-primary-surface-color, white);\n",
              "                }\n",
              "\n",
              "                .geemap-colab .jupyter-button {\n",
              "                    --jp-layout-color3: var(--colab-primary-surface-color, white);\n",
              "                }\n",
              "            </style>\n",
              "            "
            ]
          },
          "metadata": {}
        }
      ],
      "source": [
        "# Extract the models saved\n",
        "try:\n",
        "  response = ee.data.listAssets({'parent': MODEL_DIR})\n",
        "  asset_list = response.get('assets', [])\n",
        "except:\n",
        "  asset_list = []\n",
        "\n",
        "# Load the model and classify the image\n",
        "for asset in asset_list:\n",
        "  model_name = asset['name'].split('/')[-1]\n",
        "  filenumber = model_name.replace(\"agbd_model_\", \"\")\n",
        "  img_path = f\"{IMG_DIR}/agbd_{year}_{filenumber}\"\n",
        "\n",
        "  try:\n",
        "      ee.data.getAsset(img_path)\n",
        "  except:\n",
        "      rf_fc = ee.FeatureCollection(asset['name'])\n",
        "      classifier = ml.fc_to_classifier(rf_fc)\n",
        "      classified = stack.select(feature_names).classify(classifier).updateMask(vegMask2)\n",
        "\n",
        "      task_config1 = {\n",
        "          'description': f\"agbd_{year}_{filenumber}\",\n",
        "          'assetId': img_path,\n",
        "          'region': aoi.bounds(),\n",
        "          'scale': 30,\n",
        "          'maxPixels': 1e13\n",
        "      }\n",
        "      task = ee.batch.Export.image.toAsset(classified, **task_config1)\n",
        "      task.start()"
      ]
    },
    {
      "cell_type": "code",
      "source": [],
      "metadata": {
        "id": "1IqRbgoRhseQ"
      },
      "execution_count": null,
      "outputs": []
    }
  ],
  "metadata": {
    "colab": {
      "collapsed_sections": [
        "TEGRmMpBu5kj",
        "zLsFtzbvKy6R",
        "r54dW1vnbrz2"
      ],
      "toc_visible": true,
      "provenance": [],
      "include_colab_link": true
    },
    "kernelspec": {
      "display_name": "Python 3",
      "name": "python3"
    },
    "language_info": {
      "name": "python"
    }
  },
  "nbformat": 4,
  "nbformat_minor": 0
}